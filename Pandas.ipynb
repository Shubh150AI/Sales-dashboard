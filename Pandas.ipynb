{
 "cells": [
  {
   "cell_type": "code",
   "execution_count": 1,
   "metadata": {},
   "outputs": [],
   "source": [
    "import pandas as pd \n",
    "import numpy as np\n",
    "from sqlalchemy import create_engine"
   ]
  },
  {
   "cell_type": "code",
   "execution_count": 2,
   "metadata": {},
   "outputs": [],
   "source": [
    "# Read Excel \n",
    "\n",
    "df = pd.read_excel(\"Superstore.xlsx\")\n",
    "\n",
    "#print(df)\n",
    "\n"
   ]
  },
  {
   "cell_type": "code",
   "execution_count": 3,
   "metadata": {},
   "outputs": [],
   "source": [
    "# Read data from SQL Server (Using Windows authentication)\n",
    "\n",
    "\n",
    "server = 'localhost\\\\MSSQLSERVER01'\n",
    "database = 'Skool'\n",
    "\n",
    "connection_string = (\n",
    "    f\"mssql+pyodbc://@{server}/{database}\"\n",
    "    \"?driver=ODBC+Driver+17+for+SQL+Server&trusted_connection=yes\"\n",
    ")\n",
    "\n",
    "connection = create_engine(connection_string)\n",
    "\n",
    "df = pd.read_sql(\"SELECT * FROM dbo.Orders \",connection)\n",
    "\n",
    "#print(df)"
   ]
  },
  {
   "cell_type": "code",
   "execution_count": 4,
   "metadata": {},
   "outputs": [
    {
     "name": "stdout",
     "output_type": "stream",
     "text": [
      " Row_ID       Order_ID Order_Date  Ship_Date      Ship_Mode Customer_ID    Customer_Name   Segment       Country        City      State  Postal_Code Region      Product_ID        Category Sub_Category                                                                      Product_Name      Sales  Quantity  Discount    Profit\n",
      "   9985 CA-2015-100251 2015-05-17 2015-05-23 Standard Class    DV-13465 Dianna Vittorini  Consumer United States  Long Beach   New York        11561   East OFF-LA-10003766 Office Supplies       Labels                                                    Self-Adhesive Removable Labels  31.500000        10       0.0 15.120000\n",
      "   9986 CA-2015-100251 2015-05-17 2015-05-23 Standard Class    DV-13465 Dianna Vittorini  Consumer United States  Long Beach   New York        11561   East OFF-SU-10000898 Office Supplies     Supplies Acme Hot Forged Carbon Steel Scissors with Nickel-Plated Handles, 3 7/8\" Cut, 8\"L  55.599998         4       0.0 16.124001\n",
      "   9987 CA-2016-125794 2016-09-29 2016-10-03 Standard Class    ML-17410     Maris LaWare  Consumer United States Los Angeles California        90008   West TEC-AC-10003399      Technology  Accessories                               Memorex Mini Travel Drive 64 GB USB 2.0 Flash Drive  36.240002         1       0.0 15.220800\n",
      "   9988 CA-2017-163629 2017-11-17 2017-11-21 Standard Class    RA-19885     Ruben Ausman Corporate United States      Athens    Georgia        30605  South TEC-AC-10001539      Technology  Accessories             Logitech G430 Surround Sound Gaming Headset with Dolby 7.1 Technology  79.989998         1       0.0 28.796400\n",
      "   9989 CA-2017-163629 2017-11-17 2017-11-21 Standard Class    RA-19885     Ruben Ausman Corporate United States      Athens    Georgia        30605  South TEC-PH-10004006      Technology       Phones                                                   Panasonic KX - TS880B Telephone 206.100006         5       0.0 55.646999\n",
      "   9990 CA-2014-110422 2014-01-21 2014-01-23   Second Class    TB-21400 Tom Boeckenhauer  Consumer United States       Miami    Florida        33180  South FUR-FU-10001889       Furniture  Furnishings                                                            Ultra Door Pull Handle  25.247999         3       0.2  4.102800\n",
      "   9991 CA-2017-121258 2017-02-26 2017-03-03 Standard Class    DB-13060      Dave Brooks  Consumer United States  Costa Mesa California        92627   West FUR-FU-10000747       Furniture  Furnishings                                Tenex B1-RE Series Chair Mats for Low Pile Carpets  91.959999         2       0.0 15.633200\n",
      "   9992 CA-2017-121258 2017-02-26 2017-03-03 Standard Class    DB-13060      Dave Brooks  Consumer United States  Costa Mesa California        92627   West TEC-PH-10003645      Technology       Phones                                                             Aastra 57i VoIP phone 258.575989         2       0.2 19.393200\n",
      "   9993 CA-2017-121258 2017-02-26 2017-03-03 Standard Class    DB-13060      Dave Brooks  Consumer United States  Costa Mesa California        92627   West OFF-PA-10004041 Office Supplies        Paper                                 It's Hot Message Books with Stickers, 2 3/4\" x 5\"  29.600000         4       0.0 13.320000\n",
      "   9994 CA-2017-119914 2017-05-04 2017-05-09   Second Class    CC-12220     Chris Cortes  Consumer United States Westminster California        92683   West OFF-AP-10002684 Office Supplies   Appliances         Acco 7-Outlet Masterpiece Power Center, Wihtout Fax/Phone Line Protection 243.160004         2       0.0 72.947998\n"
     ]
    }
   ],
   "source": [
    "# Selecting data window (top rows , bottom rows)\n",
    "\n",
    "x = df.head(10)\n",
    "#print (x.to_string(index=False))\n",
    "\n",
    "y= df.tail(10)\n",
    "print (y.to_string(index=False))"
   ]
  },
  {
   "cell_type": "code",
   "execution_count": 5,
   "metadata": {},
   "outputs": [
    {
     "data": {
      "text/html": [
       "<div>\n",
       "<style scoped>\n",
       "    .dataframe tbody tr th:only-of-type {\n",
       "        vertical-align: middle;\n",
       "    }\n",
       "\n",
       "    .dataframe tbody tr th {\n",
       "        vertical-align: top;\n",
       "    }\n",
       "\n",
       "    .dataframe thead th {\n",
       "        text-align: right;\n",
       "    }\n",
       "</style>\n",
       "<table border=\"1\" class=\"dataframe\">\n",
       "  <thead>\n",
       "    <tr style=\"text-align: right;\">\n",
       "      <th></th>\n",
       "      <th>Row_ID</th>\n",
       "      <th>Postal_Code</th>\n",
       "      <th>Sales</th>\n",
       "      <th>Quantity</th>\n",
       "      <th>Discount</th>\n",
       "      <th>Profit</th>\n",
       "    </tr>\n",
       "  </thead>\n",
       "  <tbody>\n",
       "    <tr>\n",
       "      <th>count</th>\n",
       "      <td>9994.000000</td>\n",
       "      <td>9994.000000</td>\n",
       "      <td>9994.000000</td>\n",
       "      <td>9994.000000</td>\n",
       "      <td>9994.000000</td>\n",
       "      <td>9993.000000</td>\n",
       "    </tr>\n",
       "    <tr>\n",
       "      <th>mean</th>\n",
       "      <td>4997.500000</td>\n",
       "      <td>55190.379428</td>\n",
       "      <td>229.858000</td>\n",
       "      <td>3.789574</td>\n",
       "      <td>0.156203</td>\n",
       "      <td>28.701793</td>\n",
       "    </tr>\n",
       "    <tr>\n",
       "      <th>std</th>\n",
       "      <td>2885.163629</td>\n",
       "      <td>32063.693350</td>\n",
       "      <td>623.245098</td>\n",
       "      <td>2.225110</td>\n",
       "      <td>0.206452</td>\n",
       "      <td>234.228826</td>\n",
       "    </tr>\n",
       "    <tr>\n",
       "      <th>min</th>\n",
       "      <td>1.000000</td>\n",
       "      <td>1040.000000</td>\n",
       "      <td>0.444000</td>\n",
       "      <td>1.000000</td>\n",
       "      <td>0.000000</td>\n",
       "      <td>-6599.978027</td>\n",
       "    </tr>\n",
       "    <tr>\n",
       "      <th>25%</th>\n",
       "      <td>2499.250000</td>\n",
       "      <td>23223.000000</td>\n",
       "      <td>17.280001</td>\n",
       "      <td>2.000000</td>\n",
       "      <td>0.000000</td>\n",
       "      <td>1.731000</td>\n",
       "    </tr>\n",
       "    <tr>\n",
       "      <th>50%</th>\n",
       "      <td>4997.500000</td>\n",
       "      <td>56430.500000</td>\n",
       "      <td>54.490000</td>\n",
       "      <td>3.000000</td>\n",
       "      <td>0.200000</td>\n",
       "      <td>8.671000</td>\n",
       "    </tr>\n",
       "    <tr>\n",
       "      <th>75%</th>\n",
       "      <td>7495.750000</td>\n",
       "      <td>90008.000000</td>\n",
       "      <td>209.940002</td>\n",
       "      <td>5.000000</td>\n",
       "      <td>0.200000</td>\n",
       "      <td>29.364000</td>\n",
       "    </tr>\n",
       "    <tr>\n",
       "      <th>max</th>\n",
       "      <td>9994.000000</td>\n",
       "      <td>99301.000000</td>\n",
       "      <td>22638.480469</td>\n",
       "      <td>14.000000</td>\n",
       "      <td>0.800000</td>\n",
       "      <td>8399.975586</td>\n",
       "    </tr>\n",
       "  </tbody>\n",
       "</table>\n",
       "</div>"
      ],
      "text/plain": [
       "            Row_ID   Postal_Code         Sales     Quantity     Discount  \\\n",
       "count  9994.000000   9994.000000   9994.000000  9994.000000  9994.000000   \n",
       "mean   4997.500000  55190.379428    229.858000     3.789574     0.156203   \n",
       "std    2885.163629  32063.693350    623.245098     2.225110     0.206452   \n",
       "min       1.000000   1040.000000      0.444000     1.000000     0.000000   \n",
       "25%    2499.250000  23223.000000     17.280001     2.000000     0.000000   \n",
       "50%    4997.500000  56430.500000     54.490000     3.000000     0.200000   \n",
       "75%    7495.750000  90008.000000    209.940002     5.000000     0.200000   \n",
       "max    9994.000000  99301.000000  22638.480469    14.000000     0.800000   \n",
       "\n",
       "            Profit  \n",
       "count  9993.000000  \n",
       "mean     28.701793  \n",
       "std     234.228826  \n",
       "min   -6599.978027  \n",
       "25%       1.731000  \n",
       "50%       8.671000  \n",
       "75%      29.364000  \n",
       "max    8399.975586  "
      ]
     },
     "execution_count": 5,
     "metadata": {},
     "output_type": "execute_result"
    }
   ],
   "source": [
    "# Basic statistical analysis\n",
    "\n",
    "df.describe()"
   ]
  },
  {
   "cell_type": "code",
   "execution_count": 6,
   "metadata": {},
   "outputs": [
    {
     "name": "stdout",
     "output_type": "stream",
     "text": [
      "     Customer_Name       State             City\n",
      "0      Claire Gute    Kentucky        Henderson\n",
      "1      Claire Gute    Kentucky        Henderson\n",
      "2  Darrin Van Huff  California      Los Angeles\n",
      "3   Sean O'Donnell     Florida  Fort Lauderdale\n",
      "4   Sean O'Donnell     Florida  Fort Lauderdale\n",
      "5  Brosina Hoffman  California      Los Angeles\n",
      "6  Brosina Hoffman  California      Los Angeles\n",
      "7  Brosina Hoffman  California      Los Angeles\n",
      "8  Brosina Hoffman  California      Los Angeles\n",
      "9  Brosina Hoffman  California      Los Angeles\n"
     ]
    }
   ],
   "source": [
    "# Selecting multiple columns \n",
    "\n",
    "\n",
    "print(df[['Customer_Name','State','City']].head(10))"
   ]
  },
  {
   "cell_type": "code",
   "execution_count": 8,
   "metadata": {},
   "outputs": [
    {
     "name": "stdout",
     "output_type": "stream",
     "text": [
      "     Customer_Name    State             City\n",
      "0      Claire Gute  Florida        Henderson\n",
      "1      Claire Gute  Florida        Henderson\n",
      "2  Darrin Van Huff  Florida      Los Angeles\n",
      "3   Sean O'Donnell  Florida  Fort Lauderdale\n",
      "4   Sean O'Donnell  Florida  Fort Lauderdale\n",
      "5  Brosina Hoffman  Florida      Los Angeles\n",
      "6  Brosina Hoffman  Florida      Los Angeles\n",
      "7  Brosina Hoffman  Florida      Los Angeles\n",
      "8  Brosina Hoffman  Florida      Los Angeles\n",
      "9  Brosina Hoffman  Florida      Los Angeles\n"
     ]
    }
   ],
   "source": [
    "# Updating values on basis of index \n",
    "\n",
    "# for Claire Gute we want to change the State to Florida\n",
    "#df['State'][0]= 'Florida'\n",
    "#x=df.head(5)\n",
    "\n",
    "\n",
    "\n",
    "\n",
    "\n",
    "for i,index in df['Customer_Name']:\n",
    "    if i == 'Claire Gute':\n",
    "        df['State'][;]= 'Florida'\n",
    "\n",
    "print(df[['Customer_Name','State','City']].head(10))"
   ]
  }
 ],
 "metadata": {
  "kernelspec": {
   "display_name": "Python 3",
   "language": "python",
   "name": "python3"
  },
  "language_info": {
   "codemirror_mode": {
    "name": "ipython",
    "version": 3
   },
   "file_extension": ".py",
   "mimetype": "text/x-python",
   "name": "python",
   "nbconvert_exporter": "python",
   "pygments_lexer": "ipython3",
   "version": "3.11.4"
  }
 },
 "nbformat": 4,
 "nbformat_minor": 2
}
